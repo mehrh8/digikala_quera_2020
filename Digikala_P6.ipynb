{
  "nbformat": 4,
  "nbformat_minor": 0,
  "metadata": {
    "colab": {
      "name": "Digikala_P6.ipynb",
      "provenance": [],
      "authorship_tag": "ABX9TyMRwr+NMyhmigPWdJDskse7",
      "include_colab_link": true
    },
    "kernelspec": {
      "name": "python3",
      "display_name": "Python 3"
    }
  },
  "cells": [
    {
      "cell_type": "markdown",
      "metadata": {
        "id": "view-in-github",
        "colab_type": "text"
      },
      "source": [
        "<a href=\"https://colab.research.google.com/github/mehrshadhosseini28/digikala_quera_2020/blob/master/Digikala_P6.ipynb\" target=\"_parent\"><img src=\"https://colab.research.google.com/assets/colab-badge.svg\" alt=\"Open In Colab\"/></a>"
      ]
    },
    {
      "cell_type": "code",
      "metadata": {
        "id": "7as5QiBoJOgJ",
        "colab_type": "code",
        "colab": {
          "base_uri": "https://localhost:8080/",
          "height": 35
        },
        "outputId": "7f8d8ab4-e32a-403b-b765-6b50374b4b95"
      },
      "source": [
        "from collections import defaultdict \n",
        "   \n",
        "class Graph: \n",
        "   \n",
        "    def __init__(self,graph): \n",
        "        self.graph = graph # residual graph \n",
        "        self. ROW = len(graph) \n",
        "          \n",
        "    def BFS(self,s, t, parent): \n",
        "\n",
        "        visited =[False]*(self.ROW) \n",
        "\n",
        "        queue=[] \n",
        "\n",
        "        queue.append(s) \n",
        "        visited[s] = True\n",
        "\n",
        "        while queue: \n",
        "            u = queue.pop(0) \n",
        "            for ind, val in enumerate(self.graph[u]): \n",
        "                if visited[ind] == False and val > 0 : \n",
        "                    queue.append(ind) \n",
        "                    visited[ind] = True\n",
        "                    parent[ind] = u \n",
        "        return True if visited[t] else False\n",
        "\n",
        "    def FordFulkerson(self, source, sink): \n",
        "        parent = [-1]*(self.ROW) \n",
        "        max_flow = 0 \n",
        "        while self.BFS(source, sink, parent) : \n",
        "            path_flow = float(\"Inf\") \n",
        "            s = sink \n",
        "            while(s !=  source): \n",
        "                path_flow = min (path_flow, self.graph[parent[s]][s]) \n",
        "                s = parent[s] \n",
        "            max_flow +=  path_flow \n",
        "            v = sink \n",
        "            while(v !=  source): \n",
        "                u = parent[v] \n",
        "                self.graph[u][v] -= path_flow \n",
        "                self.graph[v][u] += path_flow \n",
        "                v = parent[v] \n",
        "        return max_flow \n",
        "  \n",
        "graph = [[0, 16, 13, 0, 0, 0], \n",
        "        [0, 0, 10, 12, 0, 0], \n",
        "        [0, 4, 0, 0, 14, 0], \n",
        "        [0, 0, 9, 0, 0, 20], \n",
        "        [0, 0, 0, 7, 0, 4], \n",
        "        [0, 0, 0, 0, 0, 0]] \n",
        "  \n",
        "g = Graph(graph) \n",
        "\n",
        "source = 0; sink = 5\n",
        "   \n",
        "print (\"The maximum possible flow is %d \" % g.FordFulkerson(source, sink)) "
      ],
      "execution_count": null,
      "outputs": [
        {
          "output_type": "stream",
          "text": [
            "The maximum possible flow is 23 \n"
          ],
          "name": "stdout"
        }
      ]
    },
    {
      "cell_type": "code",
      "metadata": {
        "id": "g80bWpI1JUvw",
        "colab_type": "code",
        "colab": {}
      },
      "source": [
        ""
      ],
      "execution_count": null,
      "outputs": []
    }
  ]
}