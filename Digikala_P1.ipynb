{
  "nbformat": 4,
  "nbformat_minor": 0,
  "metadata": {
    "colab": {
      "name": "DigiKala_P1.ipynb",
      "provenance": [],
      "collapsed_sections": [],
      "mount_file_id": "15Cn2_V8K-na8Ysr5K_TbET5dHWQS5uLj",
      "authorship_tag": "ABX9TyMb3HQXkkoehmhfJVBb/B2M",
      "include_colab_link": true
    },
    "kernelspec": {
      "name": "python3",
      "display_name": "Python 3"
    }
  },
  "cells": [
    {
      "cell_type": "markdown",
      "metadata": {
        "id": "view-in-github",
        "colab_type": "text"
      },
      "source": [
        "<a href=\"https://colab.research.google.com/github/mehrshadhosseini28/digikala_quera_2020/blob/master/DigiKala_P1.ipynb\" target=\"_parent\"><img src=\"https://colab.research.google.com/assets/colab-badge.svg\" alt=\"Open In Colab\"/></a>"
      ]
    },
    {
      "cell_type": "markdown",
      "metadata": {
        "id": "S8Gkjoovhl-Q",
        "colab_type": "text"
      },
      "source": [
        "### Download File"
      ]
    },
    {
      "cell_type": "code",
      "metadata": {
        "id": "HUlxd9wMhjbt",
        "colab_type": "code",
        "colab": {}
      },
      "source": [
        "import os, requests\n",
        "\n",
        "url = 'https://quera.ir/assignment/20120/download_problem_initial_project/66274/'\n",
        "fname = \"/content/P1.zip\"\n",
        "\n",
        "\n",
        "if not os.path.isfile(fname):\n",
        "  try:\n",
        "    r = requests.get(url)\n",
        "  except requests.ConnectionError:\n",
        "    print(\"!!! Failed to download data !!!\")\n",
        "  else:\n",
        "    if r.status_code != requests.codes.ok:\n",
        "      print(\"!!! Failed to download data !!!\")\n",
        "    else:\n",
        "      with open(fname, \"wb\") as fid:\n",
        "        fid.write(r.content)\n",
        "else:\n",
        "  print(\"this file is exist: \")"
      ],
      "execution_count": null,
      "outputs": []
    },
    {
      "cell_type": "markdown",
      "metadata": {
        "id": "Cy8O8_8BiWXh",
        "colab_type": "text"
      },
      "source": [
        "## extract zip"
      ]
    },
    {
      "cell_type": "code",
      "metadata": {
        "id": "buG2bMY1hVPk",
        "colab_type": "code",
        "colab": {}
      },
      "source": [
        "import zipfile\n",
        "with zipfile.ZipFile('/content/ML_User_Data.zip', 'r') as zip_ref:\n",
        "    zip_ref.extractall(\"/content/\")"
      ],
      "execution_count": null,
      "outputs": []
    },
    {
      "cell_type": "markdown",
      "metadata": {
        "id": "FFJj8uksAsjf",
        "colab_type": "text"
      },
      "source": [
        "### imports"
      ]
    },
    {
      "cell_type": "code",
      "metadata": {
        "id": "WtpYWFduiwka",
        "colab_type": "code",
        "colab": {}
      },
      "source": [
        "import pandas as pd\n",
        "import numpy as np\n",
        "import datetime\n",
        "from tqdm.notebook import tqdm\n",
        "from sklearn.neural_network import MLPRegressor\n",
        "from sklearn.model_selection import train_test_split\n",
        "from sklearn.preprocessing import StandardScaler\n",
        "from sklearn.metrics import explained_variance_score, mean_squared_error, r2_score\n",
        "from sklearn import ensemble\n",
        "\n",
        "def smape(A, F):\n",
        "    return 100/len(A) * np.sum(2 * np.abs(F - A) / (np.abs(A) + np.abs(F)))"
      ],
      "execution_count": null,
      "outputs": []
    },
    {
      "cell_type": "markdown",
      "metadata": {
        "id": "OGB1FpqsFRJ-",
        "colab_type": "text"
      },
      "source": [
        "# P1"
      ]
    },
    {
      "cell_type": "markdown",
      "metadata": {
        "id": "-DsYGLsP_DiK",
        "colab_type": "text"
      },
      "source": [
        "### X_train,y_train"
      ]
    },
    {
      "cell_type": "code",
      "metadata": {
        "id": "A8C9T0QAjBhP",
        "colab_type": "code",
        "colab": {}
      },
      "source": [
        "data = pd.read_csv('/content/drive/My Drive/Digikala/P1/train.csv')\n",
        "date = np.array(data['date'])\n",
        "month = [int(i.split('-')[1]) for i in date]\n",
        "data['month'] = month\n",
        "\n",
        "week = [datetime.datetime.strptime(data['date'][i],'%Y-%m-%d').weekday() for i in tqdm(range(len(data['date'])))]\n",
        "data['week'] = week\n",
        "print(data)\n",
        "\n",
        "X_train = np.array(data[['seller','item','month','week']])\n",
        "print('X=\\n',X_train,X_train.shape)\n",
        "\n",
        "y_train = np.array(data['sales'])\n",
        "print('y=\\n',y_train,y_train.shape)"
      ],
      "execution_count": null,
      "outputs": []
    },
    {
      "cell_type": "markdown",
      "metadata": {
        "id": "fQ5fAITK_KXb",
        "colab_type": "text"
      },
      "source": [
        "### X_test"
      ]
    },
    {
      "cell_type": "code",
      "metadata": {
        "id": "bMESfpWG_JYy",
        "colab_type": "code",
        "colab": {}
      },
      "source": [
        "test_data = pd.read_csv('/content/drive/My Drive/Digikala/P1/test.csv')\n",
        "\n",
        "test_date = np.array(test_data['date'])\n",
        "month = [int(i.split('-')[1]) for i in test_date]\n",
        "test_data['month'] = month\n",
        "\n",
        "week = [datetime.datetime.strptime(test_data['date'][i],'%Y-%m-%d').weekday() for i in tqdm(range(len(test_data['date'])))]\n",
        "test_data['week'] = week\n",
        "print(test_data)\n",
        "\n",
        "X_test = np.array(test_data[['seller','item','month','week']])\n",
        "print('X_test=\\n',X_test,X_test.shape)"
      ],
      "execution_count": null,
      "outputs": []
    },
    {
      "cell_type": "markdown",
      "metadata": {
        "id": "aSRIiZ_JANZa",
        "colab_type": "text"
      },
      "source": [
        "### Scale"
      ]
    },
    {
      "cell_type": "code",
      "metadata": {
        "id": "y9fDZ5qHuBZt",
        "colab_type": "code",
        "colab": {}
      },
      "source": [
        "X = np.concatenate((X_train,X_test))\n",
        "print(X.shape)\n",
        "scaler = StandardScaler()\n",
        "scl = scaler.fit(X)\n",
        "X = scl.transform(X)\n",
        "print(X,X.shape)\n",
        "\n",
        "X_train = X[:900000]\n",
        "X_test = X[900000:]\n",
        "print(X_train.shape)\n",
        "print(X_test.shape)"
      ],
      "execution_count": null,
      "outputs": []
    },
    {
      "cell_type": "markdown",
      "metadata": {
        "id": "jRdms-S0Ac_H",
        "colab_type": "text"
      },
      "source": [
        "### Regressor"
      ]
    },
    {
      "cell_type": "code",
      "metadata": {
        "id": "Zg3HTEC4zmWT",
        "colab_type": "code",
        "colab": {}
      },
      "source": [
        "clf = ensemble.GradientBoostingRegressor(n_estimators=1000 , max_depth=7, min_samples_split=2, verbose=1)\n",
        "clf.fit(X_train,y_train)\n",
        "\n",
        "clf.score(X_train,y_train)"
      ],
      "execution_count": null,
      "outputs": []
    },
    {
      "cell_type": "markdown",
      "metadata": {
        "id": "IQ-p5FsB8sAy",
        "colab_type": "text"
      },
      "source": [
        "### Test"
      ]
    },
    {
      "cell_type": "code",
      "metadata": {
        "id": "K0xWk7ps9Yw2",
        "colab_type": "code",
        "colab": {}
      },
      "source": [
        "y_test_pred = clf.predict(X_test)"
      ],
      "execution_count": null,
      "outputs": []
    },
    {
      "cell_type": "code",
      "metadata": {
        "id": "ku4-x6dJBagX",
        "colab_type": "code",
        "colab": {}
      },
      "source": [
        "id = ['id']\n",
        "for i in range(len(y_test_pred)):\n",
        "  id.append(i)\n",
        "\n",
        "sales = ['sales']\n",
        "for item in y_test_pred:\n",
        "  item_int = round(item)\n",
        "  sales.append(item_int)"
      ],
      "execution_count": null,
      "outputs": []
    },
    {
      "cell_type": "code",
      "metadata": {
        "id": "Hv3rlivNC-Pp",
        "colab_type": "code",
        "colab": {}
      },
      "source": [
        "import csv\n",
        "\n",
        "with open('/content/A1.csv', mode='w') as file:\n",
        "    file_writer = csv.writer(file, delimiter=',', quotechar='\"', quoting=csv.QUOTE_MINIMAL)\n",
        "    file_writer.writerow([id[0],sales[0]])\n",
        "    for i,j in zip(id[1:],sales[1:]):\n",
        "      file_writer.writerow([str(int(i)),str(int(j))])"
      ],
      "execution_count": null,
      "outputs": []
    },
    {
      "cell_type": "code",
      "metadata": {
        "id": "SRvggPaeFac3",
        "colab_type": "code",
        "colab": {}
      },
      "source": [
        ""
      ],
      "execution_count": null,
      "outputs": []
    }
  ]
}
