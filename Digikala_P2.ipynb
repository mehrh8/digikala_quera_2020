{
  "nbformat": 4,
  "nbformat_minor": 0,
  "metadata": {
    "colab": {
      "name": "Digikala_P2.ipynb",
      "provenance": [],
      "mount_file_id": "1J-0ig-l5oCmJmI1DjYXDXde25PEoB-Bx",
      "authorship_tag": "ABX9TyMx0kFYxdI59gQ1WgdRB3bq",
      "include_colab_link": true
    },
    "kernelspec": {
      "name": "python3",
      "display_name": "Python 3"
    },
    "accelerator": "GPU"
  },
  "cells": [
    {
      "cell_type": "markdown",
      "metadata": {
        "id": "view-in-github",
        "colab_type": "text"
      },
      "source": [
        "<a href=\"https://colab.research.google.com/github/mehrshadhosseini28/digikala_quera_2020/blob/master/Digikala_P2.ipynb\" target=\"_parent\"><img src=\"https://colab.research.google.com/assets/colab-badge.svg\" alt=\"Open In Colab\"/></a>"
      ]
    },
    {
      "cell_type": "code",
      "metadata": {
        "id": "H189CgXr73pe",
        "colab_type": "code",
        "colab": {}
      },
      "source": [
        "import zipfile\n",
        "with zipfile.ZipFile('/content/nlp_comments_users.zip', 'r') as zip_ref:\n",
        "    zip_ref.extractall(\"/content/\")"
      ],
      "execution_count": null,
      "outputs": []
    },
    {
      "cell_type": "code",
      "metadata": {
        "id": "4_wHq5pT6A0E",
        "colab_type": "code",
        "colab": {}
      },
      "source": [
        "import pandas as pd\n",
        "import numpy as np\n",
        "import datetime\n",
        "from tqdm.notebook import tqdm\n",
        "from sklearn.model_selection import train_test_split\n",
        "\n",
        "\n",
        "import numpy as np\n",
        "import time\n",
        "from keras.models import Model\n",
        "from keras import layers\n",
        "from keras.models import Sequential\n",
        "from keras.layers import Dense, Activation\n",
        "from keras.preprocessing.text import Tokenizer, one_hot\n",
        "from keras.preprocessing.sequence import pad_sequences\n",
        "import tensorflow as tf\n",
        "\n",
        "import sklearn\n",
        "from sklearn.model_selection import train_test_split\n",
        "from sklearn.metrics import classification_report, accuracy_score, confusion_matrix\n",
        "from sklearn.preprocessing import StandardScaler\n",
        "\n",
        "import matplotlib.pyplot as plt\n",
        "\n",
        "def my_str(word):\n",
        "    s=str(word)\n",
        "    if s=='nan':\n",
        "        return '.'\n",
        "    return word\n",
        "my_dict = {0:' ',1:'Buyer '}"
      ],
      "execution_count": null,
      "outputs": []
    },
    {
      "cell_type": "code",
      "metadata": {
        "id": "YOrBeZOm6QXt",
        "colab_type": "code",
        "colab": {}
      },
      "source": [
        "data = pd.read_csv('/content/drive/My Drive/Digikala/P2/train_users.csv')\n",
        "\n",
        "\n",
        "advantages = list(map(my_str,data['advantages'].to_list()))\n",
        "disadvantages = list(map(my_str,data['disadvantages'].to_list()))\n",
        "comment = list(map(my_str,data['comment'].to_list()))\n",
        "is_buyer = data['is_buyer'].astype(int)\n",
        "\n",
        "X = [my_dict[is_buyer[i]] + comment[i] + advantages[i] + disadvantages[i] for i in range(len(comment))]\n",
        "\n",
        "y = data['verification_status']\n",
        "y_P3 = data['rate']\n"
      ],
      "execution_count": null,
      "outputs": []
    },
    {
      "cell_type": "code",
      "metadata": {
        "id": "zACK6b4AJMSd",
        "colab_type": "code",
        "colab": {}
      },
      "source": [
        "data = pd.read_csv('/content/drive/My Drive/Digikala/P2/test_users.csv')\n",
        "\n",
        "advantages = list(map(my_str,data['advantages'].to_list()))\n",
        "disadvantages = list(map(my_str,data['disadvantages'].to_list()))\n",
        "comment = list(map(my_str,data['comment'].to_list()))\n",
        "is_buyer = data['is_buyer'].astype(int)\n",
        "\n",
        "X_t = [my_dict[is_buyer[i]] + comment[i] + advantages[i] + disadvantages[i] for i in range(len(comment))]"
      ],
      "execution_count": null,
      "outputs": []
    },
    {
      "cell_type": "code",
      "metadata": {
        "id": "T8GnR5n7_yPe",
        "colab_type": "code",
        "colab": {}
      },
      "source": [
        "RANDOM_STATE = 42\n",
        "text_train = X\n",
        "text_test = X_t\n",
        "y_train = y\n",
        "# text_train, text_test, y_train, y_test = train_test_split(X, y, test_size=0.1, random_state=RANDOM_STATE)\n",
        "\n",
        "\n",
        "tokenizer = Tokenizer()\n",
        "tokenizer.fit_on_texts(X)\n",
        "\n",
        "X_train = tokenizer.texts_to_sequences(text_train)\n",
        "X_test = tokenizer.texts_to_sequences(text_test)\n",
        "\n",
        "vocab_size = len(tokenizer.word_index) + 1\n",
        "maxlen = max(len(x) for x in X_train)\n",
        "\n",
        "\n",
        "X_train = pad_sequences(X_train, padding='post', maxlen=maxlen)\n",
        "X_test = pad_sequences(X_test, padding='post', maxlen=maxlen)"
      ],
      "execution_count": null,
      "outputs": []
    },
    {
      "cell_type": "code",
      "metadata": {
        "id": "yS7D4Fsd_5pK",
        "colab_type": "code",
        "colab": {}
      },
      "source": [
        "# Define CNN architecture\n",
        "\n",
        "embedding_dim = 32\n",
        "\n",
        "model = Sequential()\n",
        "model.add(layers.Embedding(vocab_size, embedding_dim, input_length=maxlen))\n",
        "model.add(layers.Conv1D(32, 5, activation='relu'))\n",
        "model.add(layers.GlobalMaxPooling1D())\n",
        "model.add(layers.Dense(10, activation='relu'))\n",
        "model.add(layers.Dense(1, activation='sigmoid'))\n",
        "model.compile(optimizer='adam',\n",
        "              loss='binary_crossentropy',\n",
        "              metrics=['accuracy'])\n",
        "print(model.summary())\n",
        "\n",
        "# Fit model\n",
        "history = model.fit(X_train, y_train,\n",
        "                    epochs=4,\n",
        "                    verbose=True,\n",
        "                    validation_split=0.05)\n",
        "loss, accuracy = model.evaluate(X_train, y_train, verbose=True)\n",
        "print(\"Training Accuracy: {:.4f}\".format(accuracy))\n",
        "# loss, accuracy = model.evaluate(X_test, y_test, verbose=False)\n",
        "# print(\"Testing Accuracy:  {:.4f}\".format(accuracy))"
      ],
      "execution_count": null,
      "outputs": []
    },
    {
      "cell_type": "code",
      "metadata": {
        "id": "YqvMc5s7OymH",
        "colab_type": "code",
        "colab": {}
      },
      "source": [
        "y_p=model.predict(X_test)"
      ],
      "execution_count": null,
      "outputs": []
    },
    {
      "cell_type": "code",
      "metadata": {
        "id": "tlBoZPeYxrdV",
        "colab_type": "code",
        "colab": {}
      },
      "source": [
        "y_p = np.round(y_p)"
      ],
      "execution_count": null,
      "outputs": []
    },
    {
      "cell_type": "code",
      "metadata": {
        "id": "gqoekhaJt_a-",
        "colab_type": "code",
        "colab": {}
      },
      "source": [
        "id = ['id']\n",
        "for i in range(len(y_p)):\n",
        "  id.append(i)\n",
        "\n",
        "vs = ['verification_status']\n",
        "for item in y_p:\n",
        "  vs.append(item)"
      ],
      "execution_count": null,
      "outputs": []
    },
    {
      "cell_type": "code",
      "metadata": {
        "id": "fiaUcqciu-sB",
        "colab_type": "code",
        "colab": {}
      },
      "source": [
        "import csv\n",
        "\n",
        "with open('/content/A2.csv', mode='w') as file:\n",
        "    file_writer = csv.writer(file, delimiter=',', quotechar='\"', quoting=csv.QUOTE_MINIMAL)\n",
        "    file_writer.writerow([id[0],vs[0]])\n",
        "    for i,j in zip(id[1:],vs[1:]):\n",
        "      file_writer.writerow([str(int(i)),str(int(j))])"
      ],
      "execution_count": null,
      "outputs": []
    }
  ]
}