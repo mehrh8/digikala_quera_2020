{
  "nbformat": 4,
  "nbformat_minor": 0,
  "metadata": {
    "colab": {
      "name": "Digikala_P3.ipynb",
      "provenance": [],
      "mount_file_id": "1kBn17OJVzr0kvR_cDuqoVb1gPmXib5kb",
      "authorship_tag": "ABX9TyN+Oy3eAQfSM69hRE2620BC",
      "include_colab_link": true
    },
    "kernelspec": {
      "name": "python3",
      "display_name": "Python 3"
    },
    "accelerator": "GPU"
  },
  "cells": [
    {
      "cell_type": "markdown",
      "metadata": {
        "id": "view-in-github",
        "colab_type": "text"
      },
      "source": [
        "<a href=\"https://colab.research.google.com/github/mehrshadhosseini28/digikala_quera_2020/blob/master/Digikala_P3.ipynb\" target=\"_parent\"><img src=\"https://colab.research.google.com/assets/colab-badge.svg\" alt=\"Open In Colab\"/></a>"
      ]
    },
    {
      "cell_type": "code",
      "metadata": {
        "id": "ZK75bZEpzKLl",
        "colab_type": "code",
        "colab": {}
      },
      "source": [
        "import pandas as pd\n",
        "import numpy as np\n",
        "import datetime\n",
        "from tqdm.notebook import tqdm\n",
        "from sklearn.model_selection import train_test_split\n",
        "\n",
        "\n",
        "import numpy as np\n",
        "import time\n",
        "\n",
        "from keras import layers\n",
        "from keras.models import Sequential\n",
        "from keras.layers import Dense, Activation\n",
        "from keras.preprocessing.text import Tokenizer, one_hot\n",
        "from keras.preprocessing.sequence import pad_sequences\n",
        "\n",
        "import sklearn\n",
        "from sklearn.model_selection import train_test_split\n",
        "from sklearn.metrics import classification_report, accuracy_score, confusion_matrix\n",
        "\n",
        "from sklearn.feature_extraction.text import TfidfTransformer\n",
        "from sklearn.feature_extraction.text import CountVectorizer\n",
        "from sklearn.naive_bayes import MultinomialNB\n",
        "from sklearn.linear_model import LinearRegression\n",
        "from sklearn.decomposition import PCA, SparsePCA\n",
        "from sklearn import ensemble\n",
        "\n",
        "import matplotlib.pyplot as plt\n",
        "\n",
        "def my_str(word):\n",
        "    s=str(word)\n",
        "    if s=='nan':\n",
        "        return '.'\n",
        "    return word\n",
        "my_dict = {0:' ',1:'Buyer '}"
      ],
      "execution_count": null,
      "outputs": []
    },
    {
      "cell_type": "code",
      "metadata": {
        "id": "xujkoXq5zShZ",
        "colab_type": "code",
        "colab": {}
      },
      "source": [
        "data = pd.read_csv('/content/drive/My Drive/Digikala/P2/train_users.csv')\n",
        "\n",
        "\n",
        "advantages = list(map(my_str,data['advantages'].to_list()))\n",
        "disadvantages = list(map(my_str,data['disadvantages'].to_list()))\n",
        "comment = list(map(my_str,data['comment'].to_list()))\n",
        "is_buyer = data['is_buyer'].astype(int)\n",
        "\n",
        "X = [my_dict[is_buyer[i]] + comment[i] + advantages[i] + disadvantages[i] for i in range(len(comment))]\n",
        "\n",
        "y = data['rate']\n"
      ],
      "execution_count": null,
      "outputs": []
    },
    {
      "cell_type": "code",
      "metadata": {
        "id": "i-k9T8OvzV7o",
        "colab_type": "code",
        "colab": {}
      },
      "source": [
        "data = pd.read_csv('/content/drive/My Drive/Digikala/P2/test_users.csv')\n",
        "\n",
        "advantages = list(map(my_str,data['advantages'].to_list()))\n",
        "disadvantages = list(map(my_str,data['disadvantages'].to_list()))\n",
        "comment = list(map(my_str,data['comment'].to_list()))\n",
        "is_buyer = data['is_buyer'].astype(int)\n",
        "\n",
        "X_t = [my_dict[is_buyer[i]] + comment[i] + advantages[i] + disadvantages[i] for i in range(len(comment))]"
      ],
      "execution_count": null,
      "outputs": []
    },
    {
      "cell_type": "code",
      "metadata": {
        "id": "2M4qxjBclfRf",
        "colab_type": "code",
        "colab": {}
      },
      "source": [
        "def oh_func(label):\n",
        "    z = np.zeros((label.shape[0],20))\n",
        "    for i in range(len(label)):\n",
        "        c = int(label[i]/5)\n",
        "        if c == 20:\n",
        "            c=19\n",
        "        z[i,c] = 1\n",
        "    return z"
      ],
      "execution_count": null,
      "outputs": []
    },
    {
      "cell_type": "code",
      "metadata": {
        "id": "z83HxDOakSky",
        "colab_type": "code",
        "colab": {}
      },
      "source": [
        "from sklearn.pipeline import Pipeline\n",
        "text_clf = Pipeline([\n",
        "    ('vect', CountVectorizer()),\n",
        "    ('tfidf', TfidfTransformer()),\n",
        "    ('clf', ensemble.GradientBoostingRegressor(n_estimators=300 , max_depth=7, min_samples_split=2, verbose=1)),\n",
        "])"
      ],
      "execution_count": null,
      "outputs": []
    },
    {
      "cell_type": "code",
      "metadata": {
        "id": "bKWmxWR9mv_V",
        "colab_type": "code",
        "colab": {}
      },
      "source": [
        "X=np.asarray(X)"
      ],
      "execution_count": null,
      "outputs": []
    },
    {
      "cell_type": "code",
      "metadata": {
        "id": "YworLqNltdk8",
        "colab_type": "code",
        "colab": {
          "base_uri": "https://localhost:8080/",
          "height": 35
        },
        "outputId": "a42ef7ef-3f55-44aa-d316-cac90709f9ed"
      },
      "source": [
        "X.shape"
      ],
      "execution_count": null,
      "outputs": [
        {
          "output_type": "execute_result",
          "data": {
            "text/plain": [
              "(264399,)"
            ]
          },
          "metadata": {
            "tags": []
          },
          "execution_count": 11
        }
      ]
    },
    {
      "cell_type": "code",
      "metadata": {
        "id": "ZNyD8EwBkZum",
        "colab_type": "code",
        "colab": {}
      },
      "source": [
        "text_clf.fit(X, y)"
      ],
      "execution_count": null,
      "outputs": []
    },
    {
      "cell_type": "code",
      "metadata": {
        "id": "Ku_oDCDArWad",
        "colab_type": "code",
        "colab": {}
      },
      "source": [
        "del X"
      ],
      "execution_count": null,
      "outputs": []
    },
    {
      "cell_type": "code",
      "metadata": {
        "id": "ZGsE7Ecsne3I",
        "colab_type": "code",
        "colab": {}
      },
      "source": [
        "y_p = text_clf.predict(X_t)"
      ],
      "execution_count": null,
      "outputs": []
    },
    {
      "cell_type": "code",
      "metadata": {
        "id": "a8i_sYtYrbU4",
        "colab_type": "code",
        "colab": {}
      },
      "source": [
        "print(y_p)"
      ],
      "execution_count": null,
      "outputs": []
    },
    {
      "cell_type": "code",
      "metadata": {
        "id": "ckeX74UF_Zxi",
        "colab_type": "code",
        "colab": {}
      },
      "source": [
        "y_p[y_p<0]=0\n",
        "y_p[y_p>100]=100"
      ],
      "execution_count": null,
      "outputs": []
    },
    {
      "cell_type": "code",
      "metadata": {
        "id": "wwr3DjEi_QKO",
        "colab_type": "code",
        "colab": {}
      },
      "source": [
        "id = ['id']\n",
        "for i in range(len(y_p)):\n",
        "  id.append(i)\n",
        "\n",
        "rate = ['rate']\n",
        "for item in y_p:\n",
        "  rate.append(item)"
      ],
      "execution_count": null,
      "outputs": []
    },
    {
      "cell_type": "code",
      "metadata": {
        "id": "bKvdAG-h_pUc",
        "colab_type": "code",
        "colab": {}
      },
      "source": [
        "import csv\n",
        "\n",
        "with open('/content/A3.csv', mode='w') as file:\n",
        "    file_writer = csv.writer(file, delimiter=',', quotechar='\"', quoting=csv.QUOTE_MINIMAL)\n",
        "    file_writer.writerow([id[0],rate[0]])\n",
        "    for i,j in zip(id[1:],rate[1:]):\n",
        "      file_writer.writerow([str(int(i)),str(float(j))])"
      ],
      "execution_count": null,
      "outputs": []
    },
    {
      "cell_type": "code",
      "metadata": {
        "id": "4wdGP7zypaFo",
        "colab_type": "code",
        "colab": {}
      },
      "source": [
        ""
      ],
      "execution_count": null,
      "outputs": []
    }
  ]
}